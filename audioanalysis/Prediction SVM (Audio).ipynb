{
 "cells": [
  {
   "cell_type": "markdown",
   "id": "b29edd70",
   "metadata": {},
   "source": [
    "# ALFA-BD - Predição da Avaliação de Fluência em Leitura com SVM\n",
    "\n",
    "## Leitura de texto dos Alunos do 2ª e 3º Anos do Fundamental\n",
    "\n",
    "#### Autor: TS#03\n",
    "\n",
    "\n",
    "### Algoritmo SVM (Support Vector Machine)\n",
    "\n",
    "Referencia: https://scikit-learn.org/stable/modules/svm.html"
   ]
  },
  {
   "cell_type": "markdown",
   "id": "26010b65",
   "metadata": {},
   "source": [
    "#### Bibliotecas"
   ]
  },
  {
   "cell_type": "code",
   "execution_count": 1,
   "id": "b9cbbdf4",
   "metadata": {},
   "outputs": [],
   "source": [
    "import glob\n",
    "import librosa\n",
    "import IPython.display as ipd\n",
    "import matplotlib.pyplot as plt\n",
    "import numpy as np\n",
    "import seaborn as sns\n",
    "\n",
    "from sklearn.svm import SVC\n",
    "from sklearn.preprocessing import StandardScaler, MinMaxScaler\n",
    "from sklearn.pipeline import Pipeline\n",
    "from sklearn.metrics import confusion_matrix, classification_report\n",
    "from sklearn.model_selection import cross_val_predict, train_test_split\n",
    "\n",
    "%matplotlib inline"
   ]
  },
  {
   "cell_type": "markdown",
   "id": "984039ae",
   "metadata": {},
   "source": [
    "## Carregamento da Base de Dados"
   ]
  },
  {
   "cell_type": "code",
   "execution_count": 3,
   "id": "0f7cbe65",
   "metadata": {},
   "outputs": [
    {
     "data": {
      "text/plain": [
       "['dataset/9_3_publica_menina_regular.wav',\n",
       " 'dataset/3_2_publica_menina_bom.wav',\n",
       " 'dataset/11_2_publica_menino_regular.wav',\n",
       " 'dataset/12_3_publica_menino_regular.wav',\n",
       " 'dataset/6_2_publica_menino_ruim.wav',\n",
       " 'dataset/1_2_particular_menina_regular.wav',\n",
       " 'dataset/5_2_publica_menina_regular.wav',\n",
       " 'dataset/7_3_particular_menina_bom.wav',\n",
       " 'dataset/4_2_publica_menino_ruim.wav',\n",
       " 'dataset/8_3_particular_menino_regular.wav',\n",
       " 'dataset/2_2_particular_menino_regular.wav',\n",
       " 'dataset/13_3_publica_menino_regular.wav',\n",
       " 'dataset/10_3_publica_menina_regular.wav']"
      ]
     },
     "execution_count": 3,
     "metadata": {},
     "output_type": "execute_result"
    }
   ],
   "source": [
    "files = glob.glob('dataset/*.wav')\n",
    "files"
   ]
  },
  {
   "cell_type": "markdown",
   "id": "cba693e2",
   "metadata": {},
   "source": [
    "## Pré Processamento\n",
    "\n",
    "Extração das features dos áudios utilizando MFCC. Mel-Frequency Cepstral Coefficients que analisa características espectrais de tempo curto, baseando-se no uso de uma escala de frequências que imita as características únicas do som que são perceptíveis pelo ouvido humano."
   ]
  },
  {
   "cell_type": "code",
   "execution_count": 4,
   "id": "f8faefab",
   "metadata": {},
   "outputs": [],
   "source": [
    "classes = {'bom': 0, 'regular': 1, 'ruim': 2}\n",
    "n_mfcc = 12\n",
    "X = []\n",
    "y = []\n",
    "\n",
    "for file in files:\n",
    "    \n",
    "    label = classes[file.split('_')[4].replace('.wav', '')]\n",
    "    x, sr = librosa.load(file)\n",
    "    mfcc = librosa.feature.mfcc(x, sr=sr, n_mfcc=n_mfcc).T\n",
    "    X.append(mfcc)\n",
    "    \n",
    "    if label == 0:\n",
    "        y.append(np.zeros(len(mfcc)))\n",
    "    elif label == 1:\n",
    "        y.append(np.ones(len(mfcc)))\n",
    "    else:\n",
    "        y.append(np.full(len(mfcc), 2))"
   ]
  },
  {
   "cell_type": "code",
   "execution_count": 5,
   "id": "ff0bae98",
   "metadata": {},
   "outputs": [],
   "source": [
    "X = np.vstack(tuple(X))\n",
    "y = np.concatenate(tuple(y))"
   ]
  },
  {
   "cell_type": "markdown",
   "id": "0d359b3b",
   "metadata": {},
   "source": [
    "## Treinamento e Teste\n",
    "\n",
    "Obs: Desconsideramos o Kernel Linear pois na primeira execução ele não teve um bom resultado e desempenho"
   ]
  },
  {
   "cell_type": "code",
   "execution_count": 24,
   "id": "eb0c9600",
   "metadata": {},
   "outputs": [],
   "source": [
    "# Criação dos pipelines\n",
    "pipe_1 = Pipeline([\n",
    "    ('scaler', StandardScaler()),\n",
    "    ('clf', SVC())\n",
    "])\n",
    "\n",
    "pipe_2 = Pipeline([\n",
    "    ('scaler', StandardScaler()),\n",
    "    ('clf', SVC(kernel='poly'))\n",
    "])\n",
    "\n",
    "pipe_3 = Pipeline([\n",
    "    ('scaler', MinMaxScaler()),\n",
    "    ('clf', SVC())\n",
    "])\n",
    "\n",
    "pipe_4 = Pipeline([\n",
    "    ('scaler', MinMaxScaler()),\n",
    "    ('clf', SVC(kernel='poly'))\n",
    "])\n",
    "\n",
    "SVM = [{'name': 'RBF (StandardScaler)',        'pipeLine': pipe_1},\n",
    "       {'name': 'Polinomial (StandardScaler)', 'pipeLine': pipe_2},\n",
    "       {'name': 'RBF (MinMaxScaler)',          'pipeLine': pipe_3},\n",
    "       {'name': 'Polinomial (MinMaxScaler)',   'pipeLine': pipe_4},]"
   ]
  },
  {
   "cell_type": "code",
   "execution_count": 25,
   "id": "b30b9c88",
   "metadata": {},
   "outputs": [],
   "source": [
    "def crossValidade(clf, X, y):\n",
    "    predictions = cross_val_predict(clf, X, y, cv=10)\n",
    "    \n",
    "    print (classification_report(y, predictions, labels=[0, 1, 2]))\n",
    "    \n",
    "    cm = confusion_matrix(predictions, y)\n",
    "    print (f'Confusion Matrix:\\n{cm}')\n",
    "    #sns.heatmap(cm, annot=True)"
   ]
  },
  {
   "cell_type": "code",
   "execution_count": 26,
   "id": "d5472927",
   "metadata": {},
   "outputs": [],
   "source": [
    "X_train, X_test, y_train, y_test = train_test_split(X, y, test_size = 0.2, stratify = y)"
   ]
  },
  {
   "cell_type": "code",
   "execution_count": null,
   "id": "8944f78f",
   "metadata": {},
   "outputs": [
    {
     "name": "stdout",
     "output_type": "stream",
     "text": [
      "\n",
      "---> RBF (StandardScaler)\n",
      "\n",
      "1. Cross Validade\n",
      "\n",
      "              precision    recall  f1-score   support\n",
      "\n",
      "           0       0.74      0.52      0.61     12381\n",
      "           1       0.79      0.86      0.82     69334\n",
      "           2       0.54      0.48      0.51     21675\n",
      "\n",
      "    accuracy                           0.74    103390\n",
      "   macro avg       0.69      0.62      0.65    103390\n",
      "weighted avg       0.73      0.74      0.73    103390\n",
      "\n",
      "Confusion Matrix:\n",
      "[[ 6435  1720   516]\n",
      " [ 5134 59743 10853]\n",
      " [  812  7871 10306]]\n",
      "\n",
      "2. Evaluation\n",
      "\n",
      "              precision    recall  f1-score   support\n",
      "\n",
      "           0       0.86      0.55      0.67      2476\n",
      "           1       0.82      0.96      0.88     13867\n",
      "           2       0.80      0.53      0.63      4335\n",
      "\n",
      "    accuracy                           0.82     20678\n",
      "   macro avg       0.83      0.68      0.73     20678\n",
      "weighted avg       0.82      0.82      0.80     20678\n",
      "\n",
      "Confusion Matrix:\n",
      "[[ 1363   134    86]\n",
      " [ 1018 13253  1968]\n",
      " [   95   480  2281]]\n",
      "\n",
      "---> Polinomial (StandardScaler)\n",
      "\n",
      "1. Cross Validade\n",
      "\n",
      "              precision    recall  f1-score   support\n",
      "\n",
      "           0       0.70      0.40      0.51     12381\n",
      "           1       0.73      0.91      0.81     69334\n",
      "           2       0.53      0.26      0.35     21675\n",
      "\n",
      "    accuracy                           0.71    103390\n",
      "   macro avg       0.66      0.52      0.56    103390\n",
      "weighted avg       0.69      0.71      0.68    103390\n",
      "\n",
      "Confusion Matrix:\n",
      "[[ 4947  1807   323]\n",
      " [ 7042 63019 15732]\n",
      " [  392  4508  5620]]\n",
      "\n",
      "2. Evaluation\n",
      "\n",
      "              precision    recall  f1-score   support\n",
      "\n",
      "           0       0.82      0.42      0.56      2476\n",
      "           1       0.75      0.97      0.84     13867\n",
      "           2       0.77      0.27      0.40      4335\n",
      "\n",
      "    accuracy                           0.75     20678\n",
      "   macro avg       0.78      0.55      0.60     20678\n",
      "weighted avg       0.76      0.75      0.72     20678\n",
      "\n",
      "Confusion Matrix:\n",
      "[[ 1042   165    65]\n",
      " [ 1389 13407  3119]\n",
      " [   45   295  1151]]\n",
      "\n",
      "---> RBF (MinMaxScaler)\n",
      "\n",
      "1. Cross Validade\n",
      "\n",
      "              precision    recall  f1-score   support\n",
      "\n",
      "           0       0.74      0.50      0.60     12381\n",
      "           1       0.78      0.86      0.82     69334\n",
      "           2       0.53      0.45      0.49     21675\n",
      "\n",
      "    accuracy                           0.73    103390\n",
      "   macro avg       0.68      0.60      0.63    103390\n",
      "weighted avg       0.72      0.73      0.72    103390\n",
      "\n",
      "Confusion Matrix:\n",
      "[[ 6222  1682   521]\n",
      " [ 5351 59871 11430]\n",
      " [  808  7781  9724]]\n",
      "\n",
      "2. Evaluation\n",
      "\n",
      "              precision    recall  f1-score   support\n",
      "\n",
      "           0       0.84      0.53      0.65      2476\n",
      "           1       0.80      0.96      0.87     13867\n",
      "           2       0.80      0.48      0.60      4335\n",
      "\n",
      "    accuracy                           0.81     20678\n",
      "   macro avg       0.81      0.66      0.71     20678\n",
      "weighted avg       0.81      0.81      0.79     20678\n",
      "\n",
      "Confusion Matrix:\n",
      "[[ 1316   155    98]\n",
      " [ 1068 13280  2174]\n",
      " [   92   432  2063]]\n",
      "\n",
      "---> Polinomial (MinMaxScaler)\n",
      "\n",
      "1. Cross Validade\n",
      "\n"
     ]
    }
   ],
   "source": [
    "for pipe in SVM:\n",
    "    print ('\\n---> '+ pipe['name'])\n",
    "    \n",
    "    print ('\\n1. Cross Validade\\n')\n",
    "    \n",
    "    crossValidade(pipe['pipeLine'], X, y)\n",
    "\n",
    "    print ('\\n2. Evaluation\\n')\n",
    "    \n",
    "    classifier = pipe['pipeLine'].fit(X_train, y_train)\n",
    "    predictions = classifier.predict(X_test)\n",
    "    \n",
    "    print (classification_report(y_test, predictions, labels=[0, 1, 2]))\n",
    "    \n",
    "    cm = confusion_matrix(predictions, y_test)\n",
    "    print (f'Confusion Matrix:\\n{cm}')\n",
    "    #sns.heatmap(cm, annot=True)"
   ]
  },
  {
   "cell_type": "markdown",
   "id": "cdce1a9a",
   "metadata": {},
   "source": [
    "## Definindo melhores parâmetros para o modelo\n",
    "\n",
    "Os parâmetros tem forte impacto no comportamento e otimização do modelo"
   ]
  },
  {
   "cell_type": "code",
   "execution_count": 9,
   "id": "b57697d8",
   "metadata": {},
   "outputs": [],
   "source": [
    "from sklearn.model_selection import GridSearchCV\n",
    "\n",
    "# Parametros\n",
    "C= [0.001, 0.01, 0.1, 1, 10, 100]\n",
    "gamma = [0.001, 0.01, 0.1, 1, 10, 100]\n",
    "params_grid = dict(clf__C=C, clf__gamma=gamma)"
   ]
  },
  {
   "cell_type": "code",
   "execution_count": null,
   "id": "d4c1f4bc",
   "metadata": {},
   "outputs": [],
   "source": [
    "# Ultilizamos o pipe_1 que deve os melhores resultados\n",
    "grid = GridSearchCV(pipe_1, params_grid, cv=10, scoring='accuracy')\n",
    "grid.fit(X, y)"
   ]
  },
  {
   "cell_type": "markdown",
   "id": "eacbbf5e",
   "metadata": {},
   "source": [
    "## Sobreamostragem (oversampling)\n",
    "\n",
    "Técnica para imputar dados em datasets desbalanceados, cria-se amostras sintéticas utilizando algoritmos baseados em calculos de similaridade."
   ]
  },
  {
   "cell_type": "markdown",
   "id": "96b9fd41",
   "metadata": {},
   "source": [
    "#### Criando amostras sintéticas para as classes minoritárias"
   ]
  },
  {
   "cell_type": "code",
   "execution_count": 11,
   "id": "d3dfa55f",
   "metadata": {},
   "outputs": [],
   "source": [
    "from imblearn.over_sampling import SMOTE"
   ]
  },
  {
   "cell_type": "code",
   "execution_count": 12,
   "id": "69373e85",
   "metadata": {},
   "outputs": [],
   "source": [
    "smote = SMOTE()\n",
    "X_over, y_over = smote.fit_resample(X, y)"
   ]
  },
  {
   "cell_type": "code",
   "execution_count": 13,
   "id": "5ba801dc",
   "metadata": {},
   "outputs": [
    {
     "data": {
      "text/plain": [
       "((208002, 12), (208002,))"
      ]
     },
     "execution_count": 13,
     "metadata": {},
     "output_type": "execute_result"
    }
   ],
   "source": [
    "X_over.shape, y_over.shape"
   ]
  },
  {
   "cell_type": "code",
   "execution_count": 15,
   "id": "d6377ff9",
   "metadata": {},
   "outputs": [
    {
     "data": {
      "text/plain": [
       "(array([0., 1., 2.]), array([12381, 69334, 21675]))"
      ]
     },
     "execution_count": 15,
     "metadata": {},
     "output_type": "execute_result"
    }
   ],
   "source": [
    "np.unique(y, return_counts=True)"
   ]
  },
  {
   "cell_type": "code",
   "execution_count": 16,
   "id": "077fa4d0",
   "metadata": {},
   "outputs": [
    {
     "data": {
      "text/plain": [
       "(array([0., 1., 2.]), array([69334, 69334, 69334]))"
      ]
     },
     "execution_count": 16,
     "metadata": {},
     "output_type": "execute_result"
    }
   ],
   "source": [
    "np.unique(y_over, return_counts=True)"
   ]
  },
  {
   "cell_type": "markdown",
   "id": "aed73da0",
   "metadata": {},
   "source": [
    "#### Retreinando o modelo"
   ]
  },
  {
   "cell_type": "code",
   "execution_count": 22,
   "id": "bea48dc5",
   "metadata": {},
   "outputs": [
    {
     "name": "stdout",
     "output_type": "stream",
     "text": [
      "              precision    recall  f1-score   support\n",
      "\n",
      "           0       0.88      0.90      0.89     13867\n",
      "           1       0.86      0.74      0.80     13867\n",
      "           2       0.80      0.89      0.84     13867\n",
      "\n",
      "    accuracy                           0.84     41601\n",
      "   macro avg       0.85      0.84      0.84     41601\n",
      "weighted avg       0.85      0.84      0.84     41601\n",
      "\n",
      "Confusion Matrix:\n",
      "[[12511  1122   581]\n",
      " [  760 10268   919]\n",
      " [  596  2477 12367]]\n"
     ]
    },
    {
     "data": {
      "image/png": "[encoded data removed]",
      "text/plain": [
       "<Figure size 432x288 with 2 Axes>"
      ]
     },
     "metadata": {
      "needs_background": "light"
     },
     "output_type": "display_data"
    }
   ],
   "source": [
    "X_train, X_test, y_train, y_test = train_test_split(X_over, y_over, test_size = 0.2, stratify = y_over)\n",
    "\n",
    "classifier = pipe_1.fit(X_train, y_train)\n",
    "predictions = classifier.predict(X_test)\n",
    "    \n",
    "print (classification_report(y_test, predictions, labels=[0, 1, 2]))\n",
    "    \n",
    "cm = confusion_matrix(predictions, y_test)\n",
    "sns.heatmap(cm, annot=True);"
   ]
  },
  {
   "cell_type": "markdown",
   "id": "22852444",
   "metadata": {},
   "source": [
    "## Conclusões\n",
    "\n",
    "Com a utilização da escala MFCC é possível obter caracteristicas especificas do áudio e ter um resultado satisfatório em comparação ao modelo de processamenteo de texto.\n",
    "\n",
    "Para um teste completo seria interessante aplicar oversampling antes de executar validação cruzada em cada conversão de escala dos dados e kernel."
   ]
  },
  {
   "cell_type": "code",
   "execution_count": null,
   "id": "faecbef1",
   "metadata": {},
   "outputs": [],
   "source": []
  }
 ],
 "metadata": {
  "kernelspec": {
   "display_name": "Python 3",
   "language": "python",
   "name": "python3"
  },
  "language_info": {
   "codemirror_mode": {
    "name": "ipython",
    "version": 3
   },
   "file_extension": ".py",
   "mimetype": "text/x-python",
   "name": "python",
   "nbconvert_exporter": "python",
   "pygments_lexer": "ipython3",
   "version": "3.7.3"
  }
 },
 "nbformat": 4,
 "nbformat_minor": 5
}
