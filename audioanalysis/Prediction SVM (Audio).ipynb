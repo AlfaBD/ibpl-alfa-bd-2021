{
 "cells": [
  {
   "cell_type": "markdown",
   "id": "b29edd70",
   "metadata": {},
   "source": [
    "# ALFA-BD - Predição da Avaliação de Fluência em Leitura com SVM\n",
    "\n",
    "## Leitura de texto dos Alunos do 2ª e 3º Anos do Fundamental\n",
    "\n",
    "#### Autor: TS#03\n",
    "\n",
    "\n",
    "### Algoritmo de SVM (Suport Vector Machine)"
   ]
  },
  {
   "cell_type": "markdown",
   "id": "26010b65",
   "metadata": {},
   "source": [
    "#### Bibliotecas"
   ]
  },
  {
   "cell_type": "code",
   "execution_count": 17,
   "id": "b9cbbdf4",
   "metadata": {},
   "outputs": [],
   "source": [
    "import glob\n",
    "import librosa\n",
    "import IPython.display as ipd\n",
    "import matplotlib.pyplot as plt\n",
    "import numpy as np\n",
    "\n",
    "from sklearn.svm import SVC\n",
    "from sklearn.preprocessing import StandardScaler,MinMaxScaler\n",
    "from sklearn.pipeline import Pipeline\n",
    "from sklearn.metrics import accuracy_score, precision_score, confusion_matrix\n",
    "from sklearn import metrics\n",
    "from sklearn.model_selection import cross_val_predict, train_test_split\n",
    "\n",
    "%matplotlib inline"
   ]
  },
  {
   "cell_type": "markdown",
   "id": "984039ae",
   "metadata": {},
   "source": [
    "## Carregamento da Base de Dados"
   ]
  },
  {
   "cell_type": "code",
   "execution_count": 3,
   "id": "0f7cbe65",
   "metadata": {},
   "outputs": [
    {
     "data": {
      "text/plain": [
       "['dataset/9_3_publica_menina_regular.wav',\n",
       " 'dataset/3_2_publica_menina_bom.wav',\n",
       " 'dataset/11_2_publica_menino_regular.wav',\n",
       " 'dataset/12_3_publica_menino_regular.wav',\n",
       " 'dataset/6_2_publica_menino_ruim.wav',\n",
       " 'dataset/1_2_particular_menina_regular.wav',\n",
       " 'dataset/5_2_publica_menina_regular.wav',\n",
       " 'dataset/7_3_particular_menina_bom.wav',\n",
       " 'dataset/4_2_publica_menino_ruim.wav',\n",
       " 'dataset/8_3_particular_menino_regular.wav',\n",
       " 'dataset/2_2_particular_menino_regular.wav',\n",
       " 'dataset/13_3_publica_menino_regular.wav',\n",
       " 'dataset/10_3_publica_menina_regular.wav']"
      ]
     },
     "execution_count": 3,
     "metadata": {},
     "output_type": "execute_result"
    }
   ],
   "source": [
    "files = glob.glob('dataset/*.wav')\n",
    "files"
   ]
  },
  {
   "cell_type": "markdown",
   "id": "cba693e2",
   "metadata": {},
   "source": [
    "## Pré Processamento\n",
    "\n",
    "Extração das features dos áudios utilizando MFCC. Mel-Frequency Cepstral Coefficients que analisa características espectrais de tempo curto, baseando-se no uso de uma escala de frequências que imita as características únicas do som que são perceptíveis pelo ouvido humano."
   ]
  },
  {
   "cell_type": "code",
   "execution_count": 19,
   "id": "f8faefab",
   "metadata": {},
   "outputs": [],
   "source": [
    "classes = {'bom': 0, 'regular': 1, 'ruim': 2}\n",
    "n_mfcc = 12\n",
    "X = []\n",
    "y = []\n",
    "\n",
    "for file in files:\n",
    "    label = classes[file.split('_')[4].replace('.wav', '')]\n",
    "    y.append(label)\n",
    "    x, sr = librosa.load(file)\n",
    "    mfcc = librosa.feature.mfcc(x, sr=sr, n_mfcc=n_mfcc).T\n",
    "    X.append(mfcc)"
   ]
  },
  {
   "cell_type": "code",
   "execution_count": 20,
   "id": "ff0bae98",
   "metadata": {},
   "outputs": [
    {
     "data": {
      "text/plain": [
       "[array([[-4.15572296e+02,  5.94668198e+01,  7.25192928e+00, ...,\n",
       "          1.12206726e+01, -1.49723291e-01, -9.07895088e+00],\n",
       "        [-4.18214539e+02,  5.74214783e+01,  7.85578918e+00, ...,\n",
       "          5.40134907e+00, -2.18671370e+00, -6.62589073e+00],\n",
       "        [-4.22665558e+02,  5.29848137e+01,  7.70487261e+00, ...,\n",
       "          1.39866829e+00, -4.45052147e+00, -8.34281349e+00],\n",
       "        ...,\n",
       "        [-4.04519745e+02,  6.63586731e+01,  6.50827503e+00, ...,\n",
       "          7.12554407e+00,  1.01433449e+01,  6.79685211e+00],\n",
       "        [-3.96089081e+02,  7.24423981e+01,  5.10503197e+00, ...,\n",
       "          1.27824335e+01,  1.31256809e+01,  3.58642173e+00],\n",
       "        [-4.03354492e+02,  6.90361786e+01,  8.32829475e+00, ...,\n",
       "          1.60754051e+01,  1.72080040e+01,  9.65972137e+00]], dtype=float32),\n",
       " array([[-4.3039944e+02,  2.9608818e+01,  5.9405375e+00, ...,\n",
       "          7.5810432e+00,  6.6874056e+00,  5.8575816e+00],\n",
       "        [-4.2801193e+02,  3.1999863e+01,  6.5276575e+00, ...,\n",
       "          8.2327251e+00,  7.2329359e+00,  6.6150341e+00],\n",
       "        [-4.3244400e+02,  2.7310955e+01,  6.1650782e+00, ...,\n",
       "          6.3785353e+00,  5.2834835e+00,  7.3037634e+00],\n",
       "        ...,\n",
       "        [-3.7319244e+02,  8.9164764e+01,  3.3986572e+01, ...,\n",
       "         -3.9029398e+00,  2.2684014e+00,  2.0463345e+01],\n",
       "        [-3.7366846e+02,  9.1504982e+01,  3.7106285e+01, ...,\n",
       "          3.1047857e-01,  7.5069914e+00,  1.8850313e+01],\n",
       "        [-3.7567114e+02,  9.1073029e+01,  3.8719223e+01, ...,\n",
       "          4.4398785e+00,  1.1650460e+01,  1.7309975e+01]], dtype=float32),\n",
       " array([[-3.64532532e+02,  5.42800064e+01, -3.88285828e+01, ...,\n",
       "          1.00851431e+01,  5.39447594e+00,  1.37893400e+01],\n",
       "        [-3.68938263e+02,  5.59520531e+01, -3.25248337e+01, ...,\n",
       "          3.08620906e+00,  6.86669230e-01,  1.42308655e+01],\n",
       "        [-3.77739349e+02,  5.26571541e+01, -2.94295578e+01, ...,\n",
       "         -1.34502494e+00, -7.21293986e-02,  1.36837187e+01],\n",
       "        ...,\n",
       "        [-3.85352295e+02,  4.85699234e+01, -3.15921936e+01, ...,\n",
       "         -3.27845240e+00,  8.32364273e+00,  1.96954041e+01],\n",
       "        [-3.95099182e+02,  4.02714424e+01, -3.00239754e+01, ...,\n",
       "         -2.40017796e+00,  8.12256241e+00,  1.79415779e+01],\n",
       "        [-3.98803650e+02,  3.95932808e+01, -2.70217438e+01, ...,\n",
       "         -1.45058441e+00,  6.67001534e+00,  1.52202368e+01]], dtype=float32),\n",
       " array([[-453.8373   ,   39.785736 ,   15.41758  , ...,   10.984182 ,\n",
       "            6.3803935,    7.545395 ],\n",
       "        [-449.88132  ,   46.009445 ,   21.657005 , ...,   12.183249 ,\n",
       "           10.297085 ,   10.847195 ],\n",
       "        [-439.40164  ,   61.439636 ,   35.940815 , ...,   10.806561 ,\n",
       "            9.7793455,   10.816385 ],\n",
       "        ...,\n",
       "        [-454.42398  ,   39.666073 ,   12.602732 , ...,    8.572079 ,\n",
       "            9.171456 ,    4.3737574],\n",
       "        [-452.70895  ,   40.30942  ,   10.449364 , ...,    8.910431 ,\n",
       "            6.64178  ,    1.3229321],\n",
       "        [-444.07202  ,   49.416885 ,   12.0191555, ...,   14.557094 ,\n",
       "           10.33633  ,    3.3972974]], dtype=float32),\n",
       " array([[-417.1936   ,   58.85281  ,   20.094181 , ...,    9.965128 ,\n",
       "           20.105473 ,   23.621323 ],\n",
       "        [-417.06253  ,   61.35643  ,   23.345924 , ...,   14.48783  ,\n",
       "           21.463993 ,   24.940653 ],\n",
       "        [-419.0039   ,   61.730072 ,   28.438543 , ...,   19.25695  ,\n",
       "           21.779713 ,   22.185055 ],\n",
       "        ...,\n",
       "        [-392.1255   ,   64.66908  ,  -13.762766 , ...,   15.391153 ,\n",
       "           16.064497 ,    7.1747704],\n",
       "        [-388.81473  ,   70.7401   ,   -4.8872976, ...,   16.49912  ,\n",
       "           14.24328  ,    2.6778255],\n",
       "        [-388.7021   ,   68.92694  ,   -7.8839464, ...,   13.153093 ,\n",
       "           13.614883 ,    5.5660887]], dtype=float32),\n",
       " array([[-5.6996912e+02,  3.9430466e+01,  1.8833824e+01, ...,\n",
       "         -3.6182859e+00, -3.4078941e+00, -2.3746722e+00],\n",
       "        [-5.5475952e+02,  5.3102463e+01,  1.8851948e+01, ...,\n",
       "         -1.9320145e+00, -2.6045341e+00, -2.3386836e+00],\n",
       "        [-5.4912256e+02,  5.8506218e+01,  2.1688183e+01, ...,\n",
       "         -2.0153813e-01,  6.8980372e-01,  1.1899390e+00],\n",
       "        ...,\n",
       "        [-4.5010437e+02,  9.7134903e+01,  2.0723015e+01, ...,\n",
       "          8.1914225e+00,  1.1690155e+01,  3.6201785e+00],\n",
       "        [-4.5124884e+02,  1.0113161e+02,  1.8361870e+01, ...,\n",
       "          8.9877224e+00,  3.1348412e+00,  3.2223847e+00],\n",
       "        [-4.5901917e+02,  9.7694244e+01,  2.1279213e+01, ...,\n",
       "          2.5696003e+00, -1.0585003e+01,  2.0272064e+00]], dtype=float32),\n",
       " array([[-393.17877   ,   48.776375  ,   31.090666  , ...,   26.687666  ,\n",
       "           23.366364  ,    5.9648914 ],\n",
       "        [-395.25095   ,   50.950294  ,   27.990078  , ...,   25.095291  ,\n",
       "           24.80465   ,    7.585305  ],\n",
       "        [-404.55524   ,   54.964626  ,   22.173859  , ...,   16.741169  ,\n",
       "           19.74815   ,    8.386494  ],\n",
       "        ...,\n",
       "        [-408.45358   ,   61.97508   ,    9.266997  , ...,    2.9166303 ,\n",
       "            1.3411423 ,    6.4272    ],\n",
       "        [-406.38644   ,   62.583244  ,    7.9047575 , ...,   -0.53744817,\n",
       "           -3.7005193 ,    5.592026  ],\n",
       "        [-409.18832   ,   59.757046  ,    7.602453  , ...,   -2.2613697 ,\n",
       "           -4.3136735 ,    3.8280635 ]], dtype=float32),\n",
       " array([[-521.5804   ,   35.08902  ,   20.068554 , ...,    9.676537 ,\n",
       "           11.330874 ,    2.9522095],\n",
       "        [-519.5929   ,   44.154823 ,   21.68937  , ...,   13.5302305,\n",
       "           12.184488 ,    9.361938 ],\n",
       "        [-519.046    ,   45.23359  ,   19.109074 , ...,   14.760357 ,\n",
       "           17.010204 ,   14.657421 ],\n",
       "        ...,\n",
       "        [-526.424    ,   38.417168 ,   17.692429 , ...,    7.3781333,\n",
       "            4.171715 ,    1.1227852],\n",
       "        [-521.5611   ,   44.49254  ,   21.3087   , ...,   11.224516 ,\n",
       "            8.606262 ,    2.2968144],\n",
       "        [-524.2256   ,   40.56736  ,   18.62579  , ...,    9.85936  ,\n",
       "            6.1463537,    1.5760195]], dtype=float32),\n",
       " array([[-4.2690854e+02,  4.3207718e+01, -2.9431367e-01, ...,\n",
       "         -1.5881158e-01,  4.9484882e+00,  1.0972862e+01],\n",
       "        [-4.2190787e+02,  4.7569847e+01, -8.8187921e-01, ...,\n",
       "         -6.3501537e-01,  3.5769806e+00,  1.1417942e+01],\n",
       "        [-4.1918265e+02,  4.6152954e+01, -6.3987608e+00, ...,\n",
       "          1.0672811e+00,  1.1853113e+00,  5.7748413e+00],\n",
       "        ...,\n",
       "        [-3.7114182e+02,  8.0420921e+01,  1.8557499e+01, ...,\n",
       "          2.5513382e+00, -4.9338455e+00,  2.1467671e+00],\n",
       "        [-3.7208688e+02,  8.0414413e+01,  1.8904650e+01, ...,\n",
       "          3.0941331e+00, -7.7454977e+00, -1.3195918e+00],\n",
       "        [-3.7358328e+02,  8.0535957e+01,  2.0414478e+01, ...,\n",
       "         -3.5275788e+00, -1.0518414e+01,  3.8457692e+00]], dtype=float32),\n",
       " array([[-485.48645  ,   41.10692  ,   27.515705 , ...,    9.425129 ,\n",
       "           11.415941 ,    9.609507 ],\n",
       "        [-487.93387  ,   41.172417 ,   27.192808 , ...,    6.440528 ,\n",
       "            5.554472 ,    6.813795 ],\n",
       "        [-488.6989   ,   41.002014 ,   28.768812 , ...,    4.505689 ,\n",
       "            3.8915062,    6.0085974],\n",
       "        ...,\n",
       "        [-497.5555   ,   32.03819  ,   25.57574  , ...,    8.480433 ,\n",
       "            6.65258  ,    5.65174  ],\n",
       "        [-501.24988  ,   27.215574 ,   21.766006 , ...,   10.256494 ,\n",
       "            9.082714 ,    8.5234165],\n",
       "        [-499.91205  ,   28.229307 ,   21.082233 , ...,    8.385846 ,\n",
       "            7.493434 ,    7.1169834]], dtype=float32),\n",
       " array([[-3.3296649e+02,  1.0770929e+02,  4.8800840e+00, ...,\n",
       "          1.5371376e+01,  7.8103147e+00, -1.1912859e+01],\n",
       "        [-3.9152557e+02,  1.0232814e+02,  8.1254044e+00, ...,\n",
       "          1.4655142e+01,  7.8691378e+00, -7.8225594e+00],\n",
       "        [-3.9737405e+02,  1.0615610e+02, -2.7764179e+01, ...,\n",
       "          1.0990656e+01,  1.7715336e+00, -1.1025938e+01],\n",
       "        ...,\n",
       "        [-5.1618097e+02,  4.8781353e+01,  2.0546558e+01, ...,\n",
       "          7.2218189e+00,  9.7007103e+00,  6.0556059e+00],\n",
       "        [-5.2022455e+02,  4.3931938e+01,  1.6228827e+01, ...,\n",
       "          7.7628028e-01,  1.4596021e+00,  4.9120507e+00],\n",
       "        [-5.2735632e+02,  3.6493011e+01,  1.4331638e+01, ...,\n",
       "          6.9195855e-01,  3.7249970e-01,  4.4189777e+00]], dtype=float32),\n",
       " array([[-428.29678  ,   52.42327  ,   23.593607 , ...,   18.328465 ,\n",
       "           18.446552 ,   12.632585 ],\n",
       "        [-433.79828  ,   51.159668 ,   26.423649 , ...,   17.02582  ,\n",
       "           20.605402 ,   17.06475  ],\n",
       "        [-439.06845  ,   42.469177 ,   18.779144 , ...,   18.661974 ,\n",
       "           22.140938 ,   15.040813 ],\n",
       "        ...,\n",
       "        [-345.74408  ,   66.215546 ,  -11.844178 , ...,    5.484762 ,\n",
       "           -1.2596966,   -6.3960133],\n",
       "        [-342.68018  ,   69.56737  ,   -9.144161 , ...,    4.898799 ,\n",
       "            1.3541224,   -3.964824 ],\n",
       "        [-337.15085  ,   68.79376  ,   -8.568851 , ...,    2.254253 ,\n",
       "            6.8241262,    6.130128 ]], dtype=float32),\n",
       " array([[-515.1277   ,   38.045258 ,   18.866817 , ...,    1.0298469,\n",
       "            7.6125774,    9.045749 ],\n",
       "        [-511.34833  ,   42.935802 ,   21.263885 , ...,    3.0801818,\n",
       "            8.415826 ,    9.507301 ],\n",
       "        [-508.92276  ,   44.583    ,   19.297852 , ...,    3.8962944,\n",
       "            9.3795395,   11.739759 ],\n",
       "        ...,\n",
       "        [-517.03516  ,   37.277443 ,   19.776358 , ...,    8.300064 ,\n",
       "            7.6190367,    6.8129425],\n",
       "        [-517.0073   ,   37.210197 ,   19.844692 , ...,    7.8628616,\n",
       "            6.1621103,    5.5139537],\n",
       "        [-511.49387  ,   43.861115 ,   24.530893 , ...,    8.080389 ,\n",
       "            6.9603915,    7.2668324]], dtype=float32)]"
      ]
     },
     "execution_count": 20,
     "metadata": {},
     "output_type": "execute_result"
    }
   ],
   "source": [
    "X\n",
    "#X = numpy.vstack(X)\n",
    "#y = np.asarray(y)"
   ]
  },
  {
   "cell_type": "markdown",
   "id": "0d359b3b",
   "metadata": {},
   "source": [
    "## Treinamento e Teste"
   ]
  },
  {
   "cell_type": "code",
   "execution_count": 10,
   "id": "9622e359",
   "metadata": {},
   "outputs": [],
   "source": [
    "# Parametros para validação cruzada\n",
    "C= [0.001, 0.01, 0.1, 1, 10, 100]\n",
    "gamma = [0.001, 0.01, 0.1, 1, 10, 100]\n",
    "params_grid = dict(clf__C=C, clf__gamma=gamma)"
   ]
  },
  {
   "cell_type": "code",
   "execution_count": 13,
   "id": "eb0c9600",
   "metadata": {},
   "outputs": [],
   "source": [
    "# Criação dos pipelines\n",
    "pip_1 = Pipeline([\n",
    "    ('scaler',StandardScaler()),\n",
    "    ('clf', SVC())\n",
    "])\n",
    "\n",
    "pip_2 = Pipeline([\n",
    "    ('scaler', StandardScaler()),\n",
    "    ('clf', SVC(kernel='poly'))\n",
    "])\n",
    "\n",
    "pip_3 = Pipeline([\n",
    "    ('scaler', StandardScaler()),\n",
    "    ('clf', SVC(kernel='linear'))\n",
    "])\n",
    "\n",
    "SVM = [{'name': 'RBF(Standard)',        'pipeLine': pip_1},\n",
    "       {'name': 'Polinomial(Standard)', 'pipeLine': pip_2},\n",
    "       {'name': 'Linear(Standard)',     'pipeLine': pip_3},]"
   ]
  },
  {
   "cell_type": "code",
   "execution_count": 15,
   "id": "b30b9c88",
   "metadata": {},
   "outputs": [],
   "source": [
    "def crossValidade(clf, X, y):\n",
    "    predictions = cross_val_predict(clf, X, y, cv=5)\n",
    "    \n",
    "    print (metrics.classification_report(y, predictions, [0, 1, 2]))\n",
    "    print (f'Acurácia: {accuracy_score(predictions, y)}')\n",
    "    \n",
    "    cm = confusion_matrix(predictions, y)\n",
    "    sns.heatmap(cm, annot=True)"
   ]
  },
  {
   "cell_type": "code",
   "execution_count": 18,
   "id": "8944f78f",
   "metadata": {},
   "outputs": [
    {
     "ename": "ValueError",
     "evalue": "Found input variables with inconsistent numbers of samples: [103390, 13]",
     "output_type": "error",
     "traceback": [
      "\u001b[0;31m---------------------------------------------------------------------------\u001b[0m",
      "\u001b[0;31mValueError\u001b[0m                                Traceback (most recent call last)",
      "\u001b[0;32m<ipython-input-18-1e0d1353175f>\u001b[0m in \u001b[0;36m<module>\u001b[0;34m\u001b[0m\n\u001b[0;32m----> 1\u001b[0;31m \u001b[0mX_train\u001b[0m\u001b[0;34m,\u001b[0m \u001b[0mX_test\u001b[0m\u001b[0;34m,\u001b[0m \u001b[0my_train\u001b[0m\u001b[0;34m,\u001b[0m \u001b[0my_test\u001b[0m \u001b[0;34m=\u001b[0m \u001b[0mtrain_test_split\u001b[0m\u001b[0;34m(\u001b[0m\u001b[0mX\u001b[0m\u001b[0;34m,\u001b[0m \u001b[0my\u001b[0m\u001b[0;34m,\u001b[0m \u001b[0mtest_size\u001b[0m \u001b[0;34m=\u001b[0m \u001b[0;36m0.2\u001b[0m\u001b[0;34m,\u001b[0m \u001b[0mstratify\u001b[0m \u001b[0;34m=\u001b[0m \u001b[0my\u001b[0m\u001b[0;34m)\u001b[0m\u001b[0;34m\u001b[0m\u001b[0;34m\u001b[0m\u001b[0m\n\u001b[0m\u001b[1;32m      2\u001b[0m \u001b[0;34m\u001b[0m\u001b[0m\n\u001b[1;32m      3\u001b[0m \u001b[0;32mfor\u001b[0m \u001b[0mpipe\u001b[0m \u001b[0;32min\u001b[0m \u001b[0mSVM\u001b[0m\u001b[0;34m:\u001b[0m\u001b[0;34m\u001b[0m\u001b[0;34m\u001b[0m\u001b[0m\n\u001b[1;32m      4\u001b[0m     \u001b[0mcrossValidade\u001b[0m\u001b[0;34m(\u001b[0m\u001b[0mpipe\u001b[0m\u001b[0;34m[\u001b[0m\u001b[0;34m'pipeLine'\u001b[0m\u001b[0;34m]\u001b[0m\u001b[0;34m,\u001b[0m \u001b[0mX\u001b[0m\u001b[0;34m,\u001b[0m \u001b[0my\u001b[0m\u001b[0;34m)\u001b[0m\u001b[0;34m\u001b[0m\u001b[0;34m\u001b[0m\u001b[0m\n\u001b[1;32m      5\u001b[0m \u001b[0;34m\u001b[0m\u001b[0m\n",
      "\u001b[0;32m~/Repositorios/ITA/ibpl-alfa-bd-2021/audioanalysis/venv/lib/python3.7/site-packages/sklearn/model_selection/_split.py\u001b[0m in \u001b[0;36mtrain_test_split\u001b[0;34m(test_size, train_size, random_state, shuffle, stratify, *arrays)\u001b[0m\n\u001b[1;32m   2170\u001b[0m         \u001b[0;32mraise\u001b[0m \u001b[0mValueError\u001b[0m\u001b[0;34m(\u001b[0m\u001b[0;34m\"At least one array required as input\"\u001b[0m\u001b[0;34m)\u001b[0m\u001b[0;34m\u001b[0m\u001b[0;34m\u001b[0m\u001b[0m\n\u001b[1;32m   2171\u001b[0m \u001b[0;34m\u001b[0m\u001b[0m\n\u001b[0;32m-> 2172\u001b[0;31m     \u001b[0marrays\u001b[0m \u001b[0;34m=\u001b[0m \u001b[0mindexable\u001b[0m\u001b[0;34m(\u001b[0m\u001b[0;34m*\u001b[0m\u001b[0marrays\u001b[0m\u001b[0;34m)\u001b[0m\u001b[0;34m\u001b[0m\u001b[0;34m\u001b[0m\u001b[0m\n\u001b[0m\u001b[1;32m   2173\u001b[0m \u001b[0;34m\u001b[0m\u001b[0m\n\u001b[1;32m   2174\u001b[0m     \u001b[0mn_samples\u001b[0m \u001b[0;34m=\u001b[0m \u001b[0m_num_samples\u001b[0m\u001b[0;34m(\u001b[0m\u001b[0marrays\u001b[0m\u001b[0;34m[\u001b[0m\u001b[0;36m0\u001b[0m\u001b[0;34m]\u001b[0m\u001b[0;34m)\u001b[0m\u001b[0;34m\u001b[0m\u001b[0;34m\u001b[0m\u001b[0m\n",
      "\u001b[0;32m~/Repositorios/ITA/ibpl-alfa-bd-2021/audioanalysis/venv/lib/python3.7/site-packages/sklearn/utils/validation.py\u001b[0m in \u001b[0;36mindexable\u001b[0;34m(*iterables)\u001b[0m\n\u001b[1;32m    354\u001b[0m     \"\"\"\n\u001b[1;32m    355\u001b[0m     \u001b[0mresult\u001b[0m \u001b[0;34m=\u001b[0m \u001b[0;34m[\u001b[0m\u001b[0m_make_indexable\u001b[0m\u001b[0;34m(\u001b[0m\u001b[0mX\u001b[0m\u001b[0;34m)\u001b[0m \u001b[0;32mfor\u001b[0m \u001b[0mX\u001b[0m \u001b[0;32min\u001b[0m \u001b[0miterables\u001b[0m\u001b[0;34m]\u001b[0m\u001b[0;34m\u001b[0m\u001b[0;34m\u001b[0m\u001b[0m\n\u001b[0;32m--> 356\u001b[0;31m     \u001b[0mcheck_consistent_length\u001b[0m\u001b[0;34m(\u001b[0m\u001b[0;34m*\u001b[0m\u001b[0mresult\u001b[0m\u001b[0;34m)\u001b[0m\u001b[0;34m\u001b[0m\u001b[0;34m\u001b[0m\u001b[0m\n\u001b[0m\u001b[1;32m    357\u001b[0m     \u001b[0;32mreturn\u001b[0m \u001b[0mresult\u001b[0m\u001b[0;34m\u001b[0m\u001b[0;34m\u001b[0m\u001b[0m\n\u001b[1;32m    358\u001b[0m \u001b[0;34m\u001b[0m\u001b[0m\n",
      "\u001b[0;32m~/Repositorios/ITA/ibpl-alfa-bd-2021/audioanalysis/venv/lib/python3.7/site-packages/sklearn/utils/validation.py\u001b[0m in \u001b[0;36mcheck_consistent_length\u001b[0;34m(*arrays)\u001b[0m\n\u001b[1;32m    318\u001b[0m     \u001b[0;32mif\u001b[0m \u001b[0mlen\u001b[0m\u001b[0;34m(\u001b[0m\u001b[0muniques\u001b[0m\u001b[0;34m)\u001b[0m \u001b[0;34m>\u001b[0m \u001b[0;36m1\u001b[0m\u001b[0;34m:\u001b[0m\u001b[0;34m\u001b[0m\u001b[0;34m\u001b[0m\u001b[0m\n\u001b[1;32m    319\u001b[0m         raise ValueError(\"Found input variables with inconsistent numbers of\"\n\u001b[0;32m--> 320\u001b[0;31m                          \" samples: %r\" % [int(l) for l in lengths])\n\u001b[0m\u001b[1;32m    321\u001b[0m \u001b[0;34m\u001b[0m\u001b[0m\n\u001b[1;32m    322\u001b[0m \u001b[0;34m\u001b[0m\u001b[0m\n",
      "\u001b[0;31mValueError\u001b[0m: Found input variables with inconsistent numbers of samples: [103390, 13]"
     ]
    }
   ],
   "source": [
    "X_train, X_test, y_train, y_test = train_test_split(X, y, test_size = 0.2, stratify = y)\n",
    "\n",
    "for pipe in SVM:\n",
    "    crossValidade(pipe['pipeLine'], X, y)\n",
    "\n",
    "    classifier = pipe['pipeLine'].fit(X_train, y_train)\n",
    "       \n",
    "    predictions = classifier.predict(X_test)\n",
    "    \n",
    "    print (metrics.classification_report(y_test, predictions, [0, 1, 2]))\n",
    "    print (f'Acurácia: {accuracy_score(predictions, y_test)}')\n",
    "    \n",
    "    cm = confusion_matrix(predictions, y_test)\n",
    "    sns.heatmap(cm, annot=True)"
   ]
  },
  {
   "cell_type": "code",
   "execution_count": null,
   "id": "d63d2b8c",
   "metadata": {},
   "outputs": [],
   "source": []
  }
 ],
 "metadata": {
  "kernelspec": {
   "display_name": "Python 3",
   "language": "python",
   "name": "python3"
  },
  "language_info": {
   "codemirror_mode": {
    "name": "ipython",
    "version": 3
   },
   "file_extension": ".py",
   "mimetype": "text/x-python",
   "name": "python",
   "nbconvert_exporter": "python",
   "pygments_lexer": "ipython3",
   "version": "3.7.3"
  }
 },
 "nbformat": 4,
 "nbformat_minor": 5
}
