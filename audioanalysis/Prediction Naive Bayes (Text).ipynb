{
 "cells": [
  {
   "cell_type": "markdown",
   "id": "1561bda6",
   "metadata": {},
   "source": [
    "# ALFA-BD - Predição da Avaliação de Fluência em Leitura com Naive Bayes\n",
    "\n",
    "## Leitura de texto dos Alunos do 2ª e 3º Anos do Fundamental\n",
    "\n",
    "#### Autor: TS#03\n",
    "\n",
    "\n",
    "### Algoritmo de Naive Bayes\n",
    "\n",
    "Gera uma tabela de probabilidades entre o texto (feature) e a avaliação (label)"
   ]
  },
  {
   "cell_type": "markdown",
   "id": "10e5800c",
   "metadata": {},
   "source": [
    "#### Bibliotecas"
   ]
  },
  {
   "cell_type": "code",
   "execution_count": 23,
   "id": "8f49ebbb",
   "metadata": {},
   "outputs": [],
   "source": [
    "import random\n",
    "import nltk\n",
    "import re\n",
    "\n",
    "import pandas as pd\n",
    "import numpy as np\n",
    "import seaborn as sns\n",
    "\n",
    "from sklearn.feature_extraction.text import CountVectorizer\n",
    "from sklearn.metrics import accuracy_score, precision_score, confusion_matrix\n",
    "from sklearn.naive_bayes import MultinomialNB\n",
    "from sklearn import metrics\n",
    "from sklearn.model_selection import cross_val_predict, train_test_split"
   ]
  },
  {
   "cell_type": "markdown",
   "id": "38b9b84c",
   "metadata": {},
   "source": [
    "## Carregamento da Base de Dados"
   ]
  },
  {
   "cell_type": "code",
   "execution_count": 24,
   "id": "c06cafa2",
   "metadata": {},
   "outputs": [],
   "source": [
    "dataset = pd.read_csv('dataset/speech_to_text.csv')"
   ]
  },
  {
   "cell_type": "code",
   "execution_count": 25,
   "id": "3922e47f",
   "metadata": {},
   "outputs": [
    {
     "data": {
      "text/plain": [
       "(13, 6)"
      ]
     },
     "execution_count": 25,
     "metadata": {},
     "output_type": "execute_result"
    }
   ],
   "source": [
    "dataset.shape"
   ]
  },
  {
   "cell_type": "code",
   "execution_count": 26,
   "id": "24d546ae",
   "metadata": {},
   "outputs": [
    {
     "data": {
      "text/html": [
       "<div>\n",
       "<style scoped>\n",
       "    .dataframe tbody tr th:only-of-type {\n",
       "        vertical-align: middle;\n",
       "    }\n",
       "\n",
       "    .dataframe tbody tr th {\n",
       "        vertical-align: top;\n",
       "    }\n",
       "\n",
       "    .dataframe thead th {\n",
       "        text-align: right;\n",
       "    }\n",
       "</style>\n",
       "<table border=\"1\" class=\"dataframe\">\n",
       "  <thead>\n",
       "    <tr style=\"text-align: right;\">\n",
       "      <th></th>\n",
       "      <th>id</th>\n",
       "      <th>ano</th>\n",
       "      <th>instituicao</th>\n",
       "      <th>genero</th>\n",
       "      <th>avaliacao</th>\n",
       "      <th>texto</th>\n",
       "    </tr>\n",
       "  </thead>\n",
       "  <tbody>\n",
       "    <tr>\n",
       "      <th>0</th>\n",
       "      <td>9</td>\n",
       "      <td>3</td>\n",
       "      <td>publica</td>\n",
       "      <td>menina</td>\n",
       "      <td>regular</td>\n",
       "      <td>a coisa a casa do avô de Pedro era uma dessas ...</td>\n",
       "    </tr>\n",
       "    <tr>\n",
       "      <th>1</th>\n",
       "      <td>3</td>\n",
       "      <td>2</td>\n",
       "      <td>publica</td>\n",
       "      <td>menina</td>\n",
       "      <td>bom</td>\n",
       "      <td>a coisa a casa do avô de Pedro era uma dessas ...</td>\n",
       "    </tr>\n",
       "    <tr>\n",
       "      <th>2</th>\n",
       "      <td>11</td>\n",
       "      <td>2</td>\n",
       "      <td>publica</td>\n",
       "      <td>menino</td>\n",
       "      <td>regular</td>\n",
       "      <td>a coisa a casa do avô de Pedro era uma dessas ...</td>\n",
       "    </tr>\n",
       "    <tr>\n",
       "      <th>3</th>\n",
       "      <td>12</td>\n",
       "      <td>3</td>\n",
       "      <td>publica</td>\n",
       "      <td>menino</td>\n",
       "      <td>regular</td>\n",
       "      <td>a coisa a casa da vovó de Pedro era uma dessas...</td>\n",
       "    </tr>\n",
       "    <tr>\n",
       "      <th>4</th>\n",
       "      <td>5</td>\n",
       "      <td>2</td>\n",
       "      <td>publica</td>\n",
       "      <td>menina</td>\n",
       "      <td>regular</td>\n",
       "      <td>a casa do vovô de Pedro era muito uma de cada ...</td>\n",
       "    </tr>\n",
       "  </tbody>\n",
       "</table>\n",
       "</div>"
      ],
      "text/plain": [
       "   id  ano instituicao  genero avaliacao  \\\n",
       "0   9    3     publica  menina   regular   \n",
       "1   3    2     publica  menina       bom   \n",
       "2  11    2     publica  menino   regular   \n",
       "3  12    3     publica  menino   regular   \n",
       "4   5    2     publica  menina   regular   \n",
       "\n",
       "                                               texto  \n",
       "0  a coisa a casa do avô de Pedro era uma dessas ...  \n",
       "1  a coisa a casa do avô de Pedro era uma dessas ...  \n",
       "2  a coisa a casa do avô de Pedro era uma dessas ...  \n",
       "3  a coisa a casa da vovó de Pedro era uma dessas...  \n",
       "4  a casa do vovô de Pedro era muito uma de cada ...  "
      ]
     },
     "execution_count": 26,
     "metadata": {},
     "output_type": "execute_result"
    }
   ],
   "source": [
    "dataset.head()"
   ]
  },
  {
   "cell_type": "markdown",
   "id": "318e7fe5",
   "metadata": {},
   "source": [
    "## Verificando Dados Desbalanceados"
   ]
  },
  {
   "cell_type": "code",
   "execution_count": 27,
   "id": "e4a9be10",
   "metadata": {},
   "outputs": [
    {
     "data": {
      "image/png": "[encoded data removed]",
      "text/plain": [
       "<Figure size 432x288 with 1 Axes>"
      ]
     },
     "metadata": {
      "needs_background": "light"
     },
     "output_type": "display_data"
    }
   ],
   "source": [
    "sns.countplot(x=dataset['avaliacao']);"
   ]
  },
  {
   "cell_type": "code",
   "execution_count": 28,
   "id": "dfb90286",
   "metadata": {},
   "outputs": [],
   "source": [
    "dataset['avaliacao'] = dataset['avaliacao'].factorize(['bom', 'regular', 'ruim'])[0]\n",
    "\n",
    "X = dataset['texto'].values\n",
    "y = dataset['avaliacao'].values"
   ]
  },
  {
   "cell_type": "markdown",
   "id": "efe3de74",
   "metadata": {},
   "source": [
    "## Pré Processamento"
   ]
  },
  {
   "cell_type": "code",
   "execution_count": 29,
   "id": "f35c60b5",
   "metadata": {},
   "outputs": [],
   "source": [
    "def clean_text(text):\n",
    "    text = text.lower()\n",
    "    text = re.sub(r\"@[A-Za-z0-9]+\", ' ', text)\n",
    "    text = re.sub(r\"[^a-zA-Z.!?]\", ' ', text)\n",
    "    text = re.sub(r\" +\", ' ', text)\n",
    "    return text"
   ]
  },
  {
   "cell_type": "code",
   "execution_count": 30,
   "id": "d10b06c9",
   "metadata": {},
   "outputs": [],
   "source": [
    "X = [ clean_text(text) for text in X ]\n",
    "\n",
    "vectorizer = CountVectorizer(analyzer=\"word\")\n",
    "\n",
    "# calcula a frequência de todas as palavras da lista de textos \n",
    "X = vectorizer.fit_transform(X)"
   ]
  },
  {
   "cell_type": "markdown",
   "id": "4bdba1f9",
   "metadata": {},
   "source": [
    "## Treinamento e Teste"
   ]
  },
  {
   "cell_type": "code",
   "execution_count": 31,
   "id": "ea2b469a",
   "metadata": {},
   "outputs": [],
   "source": [
    "# Criando base de trienamento e teste\n",
    "X_train, X_test, y_train, y_test = train_test_split(X, y, test_size = 0.2, stratify = y)"
   ]
  },
  {
   "cell_type": "code",
   "execution_count": 32,
   "id": "bd80a846",
   "metadata": {},
   "outputs": [
    {
     "data": {
      "text/plain": [
       "MultinomialNB()"
      ]
     },
     "execution_count": 32,
     "metadata": {},
     "output_type": "execute_result"
    }
   ],
   "source": [
    "model = MultinomialNB()\n",
    "model.fit(X_train, y_train)"
   ]
  },
  {
   "cell_type": "code",
   "execution_count": 33,
   "id": "91aea314",
   "metadata": {},
   "outputs": [
    {
     "data": {
      "text/plain": [
       "array([1, 1, 1])"
      ]
     },
     "execution_count": 33,
     "metadata": {},
     "output_type": "execute_result"
    }
   ],
   "source": [
    "predictions = model.predict(X_test)\n",
    "predictions"
   ]
  },
  {
   "cell_type": "code",
   "execution_count": 34,
   "id": "c0e630ca",
   "metadata": {},
   "outputs": [
    {
     "data": {
      "text/plain": [
       "array([0, 1, 1])"
      ]
     },
     "execution_count": 34,
     "metadata": {},
     "output_type": "execute_result"
    }
   ],
   "source": [
    "y_test"
   ]
  },
  {
   "cell_type": "markdown",
   "id": "75136b89",
   "metadata": {},
   "source": [
    "### Avaliação\n",
    "\n",
    "Nota-se que o modelo obteve overfiting na classe 1 (regular), pois é a classe que mais possui amostras de exemplos."
   ]
  },
  {
   "cell_type": "code",
   "execution_count": 35,
   "id": "400ce3fc",
   "metadata": {},
   "outputs": [
    {
     "name": "stdout",
     "output_type": "stream",
     "text": [
      "              precision    recall  f1-score   support\n",
      "\n",
      "           0       0.00      0.00      0.00         1\n",
      "           1       0.67      1.00      0.80         2\n",
      "           2       0.00      0.00      0.00         0\n",
      "\n",
      "   micro avg       0.67      0.67      0.67         3\n",
      "   macro avg       0.22      0.33      0.27         3\n",
      "weighted avg       0.44      0.67      0.53         3\n",
      "\n",
      "Acurácia: 0.6666666666666666\n"
     ]
    },
    {
     "name": "stderr",
     "output_type": "stream",
     "text": [
      "/home/aline/Repositorios/ITA/ibpl-alfa-bd-2021/audioanalysis/venv/lib/python3.7/site-packages/sklearn/utils/validation.py:72: FutureWarning: Pass labels=[0, 1, 2] as keyword args. From version 1.0 (renaming of 0.25) passing these as positional arguments will result in an error\n",
      "  \"will result in an error\", FutureWarning)\n",
      "/home/aline/Repositorios/ITA/ibpl-alfa-bd-2021/audioanalysis/venv/lib/python3.7/site-packages/sklearn/metrics/_classification.py:1248: UndefinedMetricWarning: Precision and F-score are ill-defined and being set to 0.0 in labels with no predicted samples. Use `zero_division` parameter to control this behavior.\n",
      "  _warn_prf(average, modifier, msg_start, len(result))\n",
      "/home/aline/Repositorios/ITA/ibpl-alfa-bd-2021/audioanalysis/venv/lib/python3.7/site-packages/sklearn/metrics/_classification.py:1248: UndefinedMetricWarning: Recall and F-score are ill-defined and being set to 0.0 in labels with no true samples. Use `zero_division` parameter to control this behavior.\n",
      "  _warn_prf(average, modifier, msg_start, len(result))\n",
      "/home/aline/Repositorios/ITA/ibpl-alfa-bd-2021/audioanalysis/venv/lib/python3.7/site-packages/sklearn/metrics/_classification.py:1248: UndefinedMetricWarning: Precision and F-score are ill-defined and being set to 0.0 in labels with no predicted samples. Use `zero_division` parameter to control this behavior.\n",
      "  _warn_prf(average, modifier, msg_start, len(result))\n",
      "/home/aline/Repositorios/ITA/ibpl-alfa-bd-2021/audioanalysis/venv/lib/python3.7/site-packages/sklearn/metrics/_classification.py:1248: UndefinedMetricWarning: Recall and F-score are ill-defined and being set to 0.0 in labels with no true samples. Use `zero_division` parameter to control this behavior.\n",
      "  _warn_prf(average, modifier, msg_start, len(result))\n",
      "/home/aline/Repositorios/ITA/ibpl-alfa-bd-2021/audioanalysis/venv/lib/python3.7/site-packages/sklearn/metrics/_classification.py:1248: UndefinedMetricWarning: Precision and F-score are ill-defined and being set to 0.0 in labels with no predicted samples. Use `zero_division` parameter to control this behavior.\n",
      "  _warn_prf(average, modifier, msg_start, len(result))\n",
      "/home/aline/Repositorios/ITA/ibpl-alfa-bd-2021/audioanalysis/venv/lib/python3.7/site-packages/sklearn/metrics/_classification.py:1248: UndefinedMetricWarning: Recall and F-score are ill-defined and being set to 0.0 in labels with no true samples. Use `zero_division` parameter to control this behavior.\n",
      "  _warn_prf(average, modifier, msg_start, len(result))\n"
     ]
    }
   ],
   "source": [
    "classes = ['bom','regular','ruim']\n",
    "print (metrics.classification_report(y_test, predictions, [0, 1, 2]))\n",
    "print (f'Acurácia: {accuracy_score(predictions, y_test)}')"
   ]
  },
  {
   "cell_type": "code",
   "execution_count": 36,
   "id": "2106240b",
   "metadata": {},
   "outputs": [],
   "source": [
    "cm = confusion_matrix(predictions, y_test)"
   ]
  },
  {
   "cell_type": "code",
   "execution_count": 37,
   "id": "277333e7",
   "metadata": {},
   "outputs": [
    {
     "data": {
      "image/png": "[encoded data removed]",
      "text/plain": [
       "<Figure size 432x288 with 2 Axes>"
      ]
     },
     "metadata": {
      "needs_background": "light"
     },
     "output_type": "display_data"
    }
   ],
   "source": [
    "sns.heatmap(cm, annot=True);"
   ]
  },
  {
   "cell_type": "markdown",
   "id": "9597ba0f",
   "metadata": {},
   "source": [
    "## Sobreamostragem (oversampling)\n",
    "\n",
    "Técnica para imputar dados em datasets desbalanceados, cria-se amostras sintéticas utilizando algoritmos baseados em calculos de similaridade."
   ]
  },
  {
   "cell_type": "markdown",
   "id": "33c41c0f",
   "metadata": {},
   "source": [
    "#### Criando amostras sintéticas para as classes minoritárias"
   ]
  },
  {
   "cell_type": "code",
   "execution_count": 38,
   "id": "4cfdb346",
   "metadata": {},
   "outputs": [],
   "source": [
    "from imblearn.over_sampling import SMOTE, RandomOverSample"
   ]
  },
  {
   "cell_type": "code",
   "execution_count": 104,
   "id": "b7ddb2e4",
   "metadata": {},
   "outputs": [],
   "source": [
    "smote = SMOTE(k_neighbors=1)\n",
    "X_over, y_over = smote.fit_resample(X, y)"
   ]
  },
  {
   "cell_type": "code",
   "execution_count": 105,
   "id": "bc012c47",
   "metadata": {},
   "outputs": [
    {
     "data": {
      "text/plain": [
       "((27, 281), (27,))"
      ]
     },
     "execution_count": 105,
     "metadata": {},
     "output_type": "execute_result"
    }
   ],
   "source": [
    "X_over.shape, y_over.shape"
   ]
  },
  {
   "cell_type": "code",
   "execution_count": 106,
   "id": "3f2ebf43",
   "metadata": {},
   "outputs": [
    {
     "data": {
      "text/plain": [
       "(array([0, 1, 2]), array([9, 9, 9]))"
      ]
     },
     "execution_count": 106,
     "metadata": {},
     "output_type": "execute_result"
    }
   ],
   "source": [
    "np.unique(y_over, return_counts=True)"
   ]
  },
  {
   "cell_type": "code",
   "execution_count": 107,
   "id": "e40dac5f",
   "metadata": {},
   "outputs": [
    {
     "data": {
      "text/plain": [
       "(array([0, 1, 2]), array([2, 9, 2]))"
      ]
     },
     "execution_count": 107,
     "metadata": {},
     "output_type": "execute_result"
    }
   ],
   "source": [
    "np.unique(y, return_counts=True)"
   ]
  },
  {
   "cell_type": "markdown",
   "id": "d460d0f6",
   "metadata": {},
   "source": [
    "#### Criandos amostras sintéticas para todas as classes\n",
    "\n",
    "Essa parte não foi executada no próximo treinamento pois as amostras geradas estão muito parecidas ocasionando Overfitting no modelo."
   ]
  },
  {
   "cell_type": "code",
   "execution_count": 103,
   "id": "fa0916f4",
   "metadata": {},
   "outputs": [],
   "source": [
    "smote = SMOTE(sampling_strategy={0: 15, 1: 15, 2: 15})\n",
    "X_over, y_over = smote.fit_resample(X_over, y_over)"
   ]
  },
  {
   "cell_type": "code",
   "execution_count": 97,
   "id": "8fec9373",
   "metadata": {},
   "outputs": [
    {
     "data": {
      "text/plain": [
       "((45, 281), (45,))"
      ]
     },
     "execution_count": 97,
     "metadata": {},
     "output_type": "execute_result"
    }
   ],
   "source": [
    "X_over.shape, y_over.shape"
   ]
  },
  {
   "cell_type": "code",
   "execution_count": 98,
   "id": "c33f35cc",
   "metadata": {},
   "outputs": [
    {
     "data": {
      "text/plain": [
       "(array([0, 1, 2]), array([15, 15, 15]))"
      ]
     },
     "execution_count": 98,
     "metadata": {},
     "output_type": "execute_result"
    }
   ],
   "source": [
    "# 30 amostras de cada classe\n",
    "np.unique(y_over, return_counts=True)"
   ]
  },
  {
   "cell_type": "markdown",
   "id": "2334a5a3",
   "metadata": {},
   "source": [
    "#### Retreinando o modelo"
   ]
  },
  {
   "cell_type": "code",
   "execution_count": 108,
   "id": "99456ef7",
   "metadata": {},
   "outputs": [
    {
     "data": {
      "text/plain": [
       "array([2, 0, 2, 1, 0, 0])"
      ]
     },
     "execution_count": 108,
     "metadata": {},
     "output_type": "execute_result"
    }
   ],
   "source": [
    "X_train, X_test, y_train, y_test = train_test_split(X_over, y_over, test_size = 0.2, stratify = y_over)\n",
    "\n",
    "model = MultinomialNB()\n",
    "model.fit(X_train, y_train)\n",
    "\n",
    "predictions = model.predict(X_test)\n",
    "predictions"
   ]
  },
  {
   "cell_type": "code",
   "execution_count": 109,
   "id": "062e3340",
   "metadata": {},
   "outputs": [
    {
     "data": {
      "text/plain": [
       "array([2, 0, 2, 1, 1, 0])"
      ]
     },
     "execution_count": 109,
     "metadata": {},
     "output_type": "execute_result"
    }
   ],
   "source": [
    "y_test"
   ]
  },
  {
   "cell_type": "markdown",
   "id": "5df233ac",
   "metadata": {},
   "source": [
    "#### Avaliação"
   ]
  },
  {
   "cell_type": "code",
   "execution_count": 110,
   "id": "293af812",
   "metadata": {},
   "outputs": [
    {
     "name": "stdout",
     "output_type": "stream",
     "text": [
      "              precision    recall  f1-score   support\n",
      "\n",
      "           0       0.67      1.00      0.80         2\n",
      "           1       1.00      0.50      0.67         2\n",
      "           2       1.00      1.00      1.00         2\n",
      "\n",
      "    accuracy                           0.83         6\n",
      "   macro avg       0.89      0.83      0.82         6\n",
      "weighted avg       0.89      0.83      0.82         6\n",
      "\n",
      "Acurácia: 0.8333333333333334\n"
     ]
    },
    {
     "name": "stderr",
     "output_type": "stream",
     "text": [
      "/home/aline/Repositorios/ITA/ibpl-alfa-bd-2021/audioanalysis/venv/lib/python3.7/site-packages/sklearn/utils/validation.py:72: FutureWarning: Pass labels=[0, 1, 2] as keyword args. From version 1.0 (renaming of 0.25) passing these as positional arguments will result in an error\n",
      "  \"will result in an error\", FutureWarning)\n"
     ]
    }
   ],
   "source": [
    "print (metrics.classification_report(y_test, predictions, [0, 1, 2]))\n",
    "print (f'Acurácia: {accuracy_score(predictions, y_test)}')"
   ]
  },
  {
   "cell_type": "code",
   "execution_count": 111,
   "id": "ab6a4833",
   "metadata": {},
   "outputs": [
    {
     "data": {
      "image/png": "[encoded data removed]",
      "text/plain": [
       "<Figure size 432x288 with 2 Axes>"
      ]
     },
     "metadata": {
      "needs_background": "light"
     },
     "output_type": "display_data"
    }
   ],
   "source": [
    "cm = confusion_matrix(predictions, y_test)\n",
    "sns.heatmap(cm, annot=True);"
   ]
  },
  {
   "cell_type": "code",
   "execution_count": null,
   "id": "4d92d5bc",
   "metadata": {},
   "outputs": [],
   "source": []
  }
 ],
 "metadata": {
  "kernelspec": {
   "display_name": "Python 3",
   "language": "python",
   "name": "python3"
  },
  "language_info": {
   "codemirror_mode": {
    "name": "ipython",
    "version": 3
   },
   "file_extension": ".py",
   "mimetype": "text/x-python",
   "name": "python",
   "nbconvert_exporter": "python",
   "pygments_lexer": "ipython3",
   "version": "3.7.3"
  }
 },
 "nbformat": 4,
 "nbformat_minor": 5
}
