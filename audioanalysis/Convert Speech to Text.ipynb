{
 "cells": [
  {
   "cell_type": "markdown",
   "id": "3202ba6c",
   "metadata": {},
   "source": [
    "# ALFA-BD - Conversão de Áudio para Texto\n",
    "\n",
    "## Leitura de texto dos Alunos do 2ª e 3º Anos do Fundamental\n",
    "\n",
    "### Referencias:\n",
    "\n",
    "- David Amos. **The Ultimate Guide To Speech Recognition With Python** - 2018. Disponível em https://realpython.com/python-speech-recognition/\n",
    "\n",
    "\n",
    "#### Autor: TS#03\n",
    "\n",
    "Esta notebook tem como objetivo converter os áudios de leitura de alunos para texto com o intuito de aplicar tecnicas de Processamento de Linguagem Natural bem como ánalise exploratória e a implementação como prova de conceito de um modelo preditivo para avaliação da fluência em leitura."
   ]
  },
  {
   "cell_type": "code",
   "execution_count": 18,
   "id": "1498e15e",
   "metadata": {},
   "outputs": [],
   "source": [
    "import glob\n",
    "\n",
    "# Noise reduce\n",
    "from scipy.io import wavfile\n",
    "import noisereduce as nr\n",
    "import soundfile as sf\n",
    "\n",
    "# Convert\n",
    "import pandas as pd\n",
    "import speech_recognition as sr"
   ]
  },
  {
   "cell_type": "code",
   "execution_count": 19,
   "id": "64ca7231",
   "metadata": {},
   "outputs": [
    {
     "data": {
      "text/plain": [
       "['dataset/9_3_publica_menina_regular.wav',\n",
       " 'dataset/3_2_publica_menina_bom.wav',\n",
       " 'dataset/11_2_publica_menino_regular.wav',\n",
       " 'dataset/12_3_publica_menino_regular.wav',\n",
       " 'dataset/6_2_publica_menino_ruim.wav',\n",
       " 'dataset/5_2_publica_menina_regular.wav',\n",
       " 'dataset/7_3_particular_menina_bom.wav',\n",
       " 'dataset/4_2_publica_menino_ruim.wav',\n",
       " 'dataset/8_3_particular_menino_regular.wav',\n",
       " 'dataset/2_2_particular_menino_regular.wav',\n",
       " 'dataset/13_3_publica_menino_regular.wav',\n",
       " 'dataset/10_3_publica_menina_regular.wav',\n",
       " 'dataset/1_2_particular_menina_bom.wav']"
      ]
     },
     "execution_count": 19,
     "metadata": {},
     "output_type": "execute_result"
    }
   ],
   "source": [
    "files = glob.glob('dataset/*.wav')\n",
    "files"
   ]
  },
  {
   "cell_type": "markdown",
   "id": "272c4c29",
   "metadata": {},
   "source": [
    "### Remoção de Ruidos - Implementação feita pelo TS#01"
   ]
  },
  {
   "cell_type": "code",
   "execution_count": 7,
   "id": "eccbcc0f",
   "metadata": {},
   "outputs": [],
   "source": [
    "def alfa_bd_AT(src):\n",
    "    for file in src:\n",
    "        data, rate = sf.read(file)\n",
    "        noise_clip = data / 1.15\n",
    "        noise_reduced = nr.reduce_noise(audio_clip=data, noise_clip=noise_clip, prop_decrease=1.0,  verbose=False)\n",
    "        wavfile.write(file.replace('dataset', 'treated'), rate, noise_reduced)"
   ]
  },
  {
   "cell_type": "code",
   "execution_count": 8,
   "id": "a347bf06",
   "metadata": {},
   "outputs": [],
   "source": [
    "alfa_bd_AT(files)"
   ]
  },
  {
   "cell_type": "markdown",
   "id": "30e401c5",
   "metadata": {},
   "source": [
    "### Conversão para Texto\n",
    "\n",
    "Obs: Os áudios foram comprimidos para redução de tamanho e tempo de processamento:\n",
    "link https://www.compresss.com/compress-audio.html\n",
    "\n",
    "Optamos por não utilizar os áudios tratrados pela função acima, pois o Google não obteve um resultado satisfatório na conversão para texto.\n",
    "\n",
    "O espectro de potência de cada fragmento do áudio, que é essencialmente um gráfico da potência do sinal em função da frequência, é mapeado para um vetor numérico conhecido como coeficientes cepstrais utilizado para reconhecimento de áudio para texto. \n",
    "\n",
    "Acreditamos que o tratamento de ruidos do áudio precisa ser refinado para que ele não tire propriedades importantes utilizadas pelo recognize_google."
   ]
  },
  {
   "cell_type": "code",
   "execution_count": 20,
   "id": "4039b635",
   "metadata": {},
   "outputs": [
    {
     "data": {
      "text/plain": [
       "['dataset/9_3_publica_menina_regular.wav',\n",
       " 'dataset/3_2_publica_menina_bom.wav',\n",
       " 'dataset/11_2_publica_menino_regular.wav',\n",
       " 'dataset/12_3_publica_menino_regular.wav',\n",
       " 'dataset/6_2_publica_menino_ruim.wav',\n",
       " 'dataset/5_2_publica_menina_regular.wav',\n",
       " 'dataset/7_3_particular_menina_bom.wav',\n",
       " 'dataset/4_2_publica_menino_ruim.wav',\n",
       " 'dataset/8_3_particular_menino_regular.wav',\n",
       " 'dataset/2_2_particular_menino_regular.wav',\n",
       " 'dataset/13_3_publica_menino_regular.wav',\n",
       " 'dataset/10_3_publica_menina_regular.wav',\n",
       " 'dataset/1_2_particular_menina_bom.wav']"
      ]
     },
     "execution_count": 20,
     "metadata": {},
     "output_type": "execute_result"
    }
   ],
   "source": [
    "files = glob.glob('dataset/*.wav')\n",
    "files"
   ]
  },
  {
   "cell_type": "code",
   "execution_count": 21,
   "id": "f29bc0d8",
   "metadata": {},
   "outputs": [],
   "source": [
    "data = [['id', 'ano', 'instituicao', 'genero', 'avaliacao', 'texto']]\n",
    "\n",
    "recognizer = sr.Recognizer()\n",
    "recognizer.energy_threshold = 50\n",
    "recognizer.dynamic_energy_threshold = False"
   ]
  },
  {
   "cell_type": "code",
   "execution_count": 22,
   "id": "b5d72586",
   "metadata": {},
   "outputs": [
    {
     "name": "stdout",
     "output_type": "stream",
     "text": [
      "Not converted: dataset/6_2_publica_menino_ruim.wav\n",
      "Not converted: dataset/1_2_particular_menina_bom.wav\n"
     ]
    }
   ],
   "source": [
    "for file in files:\n",
    "    with sr.AudioFile(file) as source:\n",
    "        audio = recognizer.record(source)\n",
    "        \n",
    "        # remove the effect of noise\n",
    "        recognizer.adjust_for_ambient_noise(source, duration=0.5)\n",
    "        text = recognizer.recognize_google(audio, language=\"pt-BR\", show_all=True)\n",
    "        if len(text) > 0:\n",
    "            file = file.replace('dataset/', '').replace('.wav', '')\n",
    "            row = file.split('_')\n",
    "            row.append(text['alternative'][0]['transcript'])\n",
    "            data.append(row)\n",
    "        else:\n",
    "            print (f'Not converted: {file}')"
   ]
  },
  {
   "cell_type": "markdown",
   "id": "1bef999e",
   "metadata": {},
   "source": [
    "Obs: Os aúdios não convertidos pelo recognize_google foram convertidos manualmente"
   ]
  },
  {
   "cell_type": "code",
   "execution_count": 23,
   "id": "fc978c20",
   "metadata": {},
   "outputs": [],
   "source": [
    "# save converted texts\n",
    "df = pd.DataFrame(data=data)\n",
    "df.to_csv(\"dataset/speech_to_text.csv\", header=False, index=False)"
   ]
  }
 ],
 "metadata": {
  "kernelspec": {
   "display_name": "Python 3",
   "language": "python",
   "name": "python3"
  },
  "language_info": {
   "codemirror_mode": {
    "name": "ipython",
    "version": 3
   },
   "file_extension": ".py",
   "mimetype": "text/x-python",
   "name": "python",
   "nbconvert_exporter": "python",
   "pygments_lexer": "ipython3",
   "version": "3.7.3"
  }
 },
 "nbformat": 4,
 "nbformat_minor": 5
}
